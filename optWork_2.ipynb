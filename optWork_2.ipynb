{
  "nbformat": 4,
  "nbformat_minor": 0,
  "metadata": {
    "colab": {
      "name": "optWork_2",
      "provenance": [],
      "collapsed_sections": [],
      "authorship_tag": "ABX9TyNLJdEajaJ8l44ZskdD99m5",
      "include_colab_link": true
    },
    "kernelspec": {
      "name": "python3",
      "display_name": "Python 3"
    }
  },
  "cells": [
    {
      "cell_type": "markdown",
      "metadata": {
        "id": "view-in-github",
        "colab_type": "text"
      },
      "source": [
        "<a href=\"https://colab.research.google.com/github/j54854/myColab/blob/main/optWork_2.ipynb\" target=\"_parent\"><img src=\"https://colab.research.google.com/assets/colab-badge.svg\" alt=\"Open In Colab\"/></a>"
      ]
    },
    {
      "cell_type": "markdown",
      "metadata": {
        "id": "TEQO7GHQJk10"
      },
      "source": [
        "# 最適化技術実験（第3部2回目）\n",
        "\n",
        "## 演習で利用するクラスの読込み\n",
        "\n",
        "今回の演習課題でもJobsクラスと，前回の演習で作成したNodeクラスを利用しますので，最初にそれらを読み込んでおきましょう．まずはJobsクラスからです．\n",
        "\n",
        "\n",
        "\n"
      ]
    },
    {
      "cell_type": "code",
      "metadata": {
        "id": "ShAjgjrEKLNI"
      },
      "source": [
        "import csv\n",
        "import random\n",
        "import sys\n",
        "import time\n",
        "import plotly.figure_factory as ff\n",
        "\n",
        "class Jobs:\n",
        "    def __init__(self, pt=None):\n",
        "        if pt:  # pt must be 2-dimensional list of integers\n",
        "            self.pt = pt  # pt[j][m]: processing time of job j on machine m\n",
        "            self.J = len(self.pt)  # number of jobs\n",
        "            self.M = len(self.pt[0])  # number of machines\n",
        "        else:  # if pt is not given\n",
        "            pass  # do nothing (pt, J, M sould be set later)\n",
        "\n",
        "    def save_in_csv_file(self, filename):  # pt_jm is saved in a csv file\n",
        "        with open(filename, 'w') as f:\n",
        "            writer = csv.writer(f)\n",
        "            for j in range(self.J):\n",
        "                writer.writerow(self.pt[j])\n",
        "\n",
        "    def set_by_csv_file(self, filename):  # pt, J & M are set by a csv file, where rows correespond to jobs and columns correspond to machines\n",
        "        with open(filename) as f:\n",
        "            reader = csv.reader(f)\n",
        "            self.pt = [\n",
        "                [int(pt) for pt in row] for row in reader\n",
        "            ]\n",
        "            self.J = len(self.pt)\n",
        "            self.M = len(self.pt[0])\n",
        "\n",
        "    def set_randomly(self, J, M):  # pt_jm is set randomly for specified J & M\n",
        "        self.J = J\n",
        "        self.M = M\n",
        "        self.pt = [\n",
        "            [random.randint(1, 60) for m in range(M)] for j in range(J)\n",
        "        ]\n",
        "\n",
        "    def make_schedule(self, seq=None):\n",
        "        if not seq:  # is seq is not given, it is set randomly\n",
        "            seq = list(range(self.J))  # seq = [0, 1, 2, ..., J]\n",
        "            random.shuffle(seq)  # randomize the order of elements in seq\n",
        "        self.st = [[0] *self.M for j in range(self.J)]  # start time of job j on machine m is initilized to be 0\n",
        "        last_ct = [0 for m in range(self.M)]  # when each machine finishes the last job (& becomes available) is also set to be 0\n",
        "        for j in seq:\n",
        "            last_ct_j = 0  # when job j is completed on the last machine (& becomes ready) is initially set to be 0\n",
        "            for m in range(self.M):\n",
        "                self.st[j][m] = max(last_ct_j, last_ct[m])\n",
        "                last_ct[m] = self.st[j][m] +self.pt[j][m]\n",
        "                last_ct_j = self.st[j][m] +self.pt[j][m]\n",
        "        print('Job sequence = ', seq)\n",
        "        print('Makespan = {}'.format(last_ct_j))\n",
        "\n",
        "    def draw_schedule(self):\n",
        "        operations = []\n",
        "        for j in range(self.J):\n",
        "            for m in range(self.M):\n",
        "                day = '2020-12-01 '  # dummy date\n",
        "                st_h, st_m = divmod(self.st[j][m], 60)\n",
        "                ct_h, ct_m = divmod(self.st[j][m] +self.pt[j][m], 60)\n",
        "                st_daytime = day +'{:02}:{:02}'.format(st_h, st_m)\n",
        "                ct_daytime = day +'{:02}:{:02}'.format(ct_h, ct_m)\n",
        "                operations.append(\n",
        "                    dict(Task='Machine'+str(m), Start=st_daytime, Finish=ct_daytime, Resource='Job'+str(j))\n",
        "                )\n",
        "        fig = ff.create_gantt(operations, index_col='Resource', show_colorbar=True, group_tasks=True)\n",
        "        fig.show()"
      ],
      "execution_count": 2,
      "outputs": []
    },
    {
      "cell_type": "markdown",
      "metadata": {
        "id": "qm7mu6wNKj6I"
      },
      "source": [
        "次にNodeクラスを読み込みます．なお，下記のサンプルコードは各メソッドの中身が記述されていないスケルトンですので，前回の演習課題で作成したコードに置き換えてから実行するようにします．"
      ]
    },
    {
      "cell_type": "code",
      "metadata": {
        "id": "PgLf_JTbKWxu"
      },
      "source": [
        "class Node:\n",
        "    def __init__(self, jobs, seq=None):\n",
        "        self.jobs = jobs  # all jobs (Jobs class instance)\n",
        "        self.seq = []  # (partial) job sequence\n",
        "        self.rest = list(range(jobs.J))  # unassigned jobs\n",
        "        self.last_ct = [0] *jobs.M  # when each machine finishes the last job (& becomes available) is initially set to be 0\n",
        "        if seq:\n",
        "            self.set_seq(seq)\n",
        "\n",
        "    @property\n",
        "    def makespan(self):\n",
        "        pass\n",
        "\n",
        "    def assign(self, j):  # assign job j in rest\n",
        "        pass\n",
        "\n",
        "    def set_seq(self, seq):  # set (partial) job sequence at a time\n",
        "        pass\n",
        "\n",
        "    def is_complete(self):  # is this a full schedule?\n",
        "        pass"
      ],
      "execution_count": 3,
      "outputs": []
    },
    {
      "cell_type": "markdown",
      "metadata": {
        "id": "_9SDsK2OK183"
      },
      "source": [
        "## ノードの集合を表すNodeSetクラスの導入\n",
        "\n",
        "探索木は，まだジョブの順序が全く指定されていない根ノード（可能なすべての順列からなる集合）から始めて，それを順に分枝させていく（互いに素な部分集合に分割していく）ことで構成していきます．ここに，分枝という操作は，ジョブの順序を前から順に１つずつ指定していくことに対応しています．\n",
        "\n",
        "この探索木を構成するプロセスを，前回は，関数の再帰呼出しで実装しましたが，今回は，別の方法で実装してみることにします．すなわち，まだ分枝操作を適用していない作成済みのノードの集合を保持しておき，毎回，その集合から１つ選んでそのノードに分枝操作を適用するという流れで探索木を構成してみます．この方法を用いると，ノードをチェックしていく順序を変更することが容易になります．\n",
        "\n",
        "このために，まず，保持しておくノードの集合を表現するためのNodeSetクラスを導入しましょう．\n",
        "\n",
        "下のサンプルコードの`__init__()`メソッドを見てください．ノード（Nodeクラスのインスタンス）の集合をnodesという名称のリストに保持するようになっており，そのリストが根ノードのみを含むように初期化されていることがわかります．また，best_seqとbest_msには，探索によって得られた中で最も好ましい順列とその順列に対応するスケジュールのメイクスパンを格納するようになっています（sys.maxsizeは非常に大きな整数値と考えておけばOKです）．\n",
        "\n",
        "その下にいくつかのメソッドのスケルトンが用意されていますが，予想通り，それらは以下の演習課題で利用することになります．"
      ]
    },
    {
      "cell_type": "code",
      "metadata": {
        "id": "bB3xKsMJMAO-"
      },
      "source": [
        "class NodeSet:  # the set of nodes to be checked\n",
        "    def __init__(self, jobs):\n",
        "        self.nodes = [Node(jobs)]  # only the root node\n",
        "        self.best_seq = None  # best job sequence found so far\n",
        "        self.best_ms = sys.maxsize  # its makespan\n",
        "\n",
        "    def enumerate_all(self):\n",
        "        while self.nodes:\n",
        "            node = self.nodes.pop(0)\n",
        "            pass\n",
        "\n",
        "    def exhaustive_search(self):\n",
        "        pass\n",
        "\n",
        "    def bab_search(self):\n",
        "        pass"
      ],
      "execution_count": 4,
      "outputs": []
    },
    {
      "cell_type": "markdown",
      "metadata": {
        "id": "HPRphUAhRX_t"
      },
      "source": [
        "## NodeSetクラスを用いた順列の列挙\n",
        "\n",
        "最初に，関数の再帰呼出しではなく，「まだ分枝操作を適用していない作成済みのノードの集合」を利用して順列を列挙することに挑戦してみましょう．\n",
        "\n",
        "### 演習課題 1\n",
        "\n",
        "上のサンプルコード内のenumerate_all()メソッドを完成させてみてください．whileループとその中で実行する最初の処理までが用意されています．これは，ノード集合を表すリストnodesが空でない限りループを繰り返し，そのループの中ではまずnodesの先頭の要素を取り出してnodeで参照できるようにしています．\n",
        "\n",
        "その下のpassを削除して必要なコードを追加して順列を列挙できるようにしましょう．下記のコードを実行して，前回のenumerate_all()関数と同じように，可能なすべての順列が書き出されれば完成です．"
      ]
    },
    {
      "cell_type": "code",
      "metadata": {
        "id": "Utl8ziBwTte5"
      },
      "source": [
        "pt = [\n",
        "        [35, 7, 18, 20],\n",
        "        [4, 60, 12, 10],\n",
        "        [15, 15, 20, 30],\n",
        "        [11, 25, 10, 35],\n",
        "        [33, 1, 45, 12]\n",
        "    ]\n",
        "jobs = Jobs(pt)\n",
        "\n",
        "tree = NodeSet(jobs)\n",
        "tree.enumerate_all()"
      ],
      "execution_count": 5,
      "outputs": []
    },
    {
      "cell_type": "markdown",
      "metadata": {
        "id": "7YYZK3docXCj"
      },
      "source": [
        "この方法で順列を列挙していく場合，例えば，ノード集合内のノード（nodesリスト内の要素）をうまく並べ替えることなどで，ノードをチェックしていく順序を簡単に変更することができます．"
      ]
    },
    {
      "cell_type": "markdown",
      "metadata": {
        "id": "58liVUDwUqXo"
      },
      "source": [
        "## NodeSetクラスを用いたスケジュールの全数探索\n",
        "\n",
        "続いて，上と同じノード集合を利用して，ジョブの順列（に対応するスケジュール）の全数探索を行ってみましょう．メイクスパンを最小にするスケジュール（に対応する順列）を探します．\n",
        "\n",
        "### 演習課題 2\n",
        "\n",
        "この機能が達成できるように，上のサンプルコード内のexhaustive_search()メソッドを完成させてください．\n",
        "\n",
        "実装し終わったら，下記のコードで動作を確認しておきましょう．最後に最適なスケジュールが描画されれば完成です．\n"
      ]
    },
    {
      "cell_type": "code",
      "metadata": {
        "id": "-ZvPxYwueA7-"
      },
      "source": [
        "tree = NodeSet(jobs)\n",
        "tree.exhaustive_search()"
      ],
      "execution_count": null,
      "outputs": []
    },
    {
      "cell_type": "markdown",
      "metadata": {
        "id": "McmcU0i3egVr"
      },
      "source": [
        "## 簡単な分枝限定法への拡張\n",
        "\n",
        "上のように探索木を構成していく過程で，各ノードnodeについて，既に割付済みの部分スケジュールのメイクスパンnode.makespanの値を参照することができます．そして，そのノードnodeから派生して得られる任意の葉ノード（すなわち，完全な順列）に対応するスケジュールのメイクスパンは，必ずこのnode.makespanの値以上になることが保証されます．この意味で，node.makespanの値は，このノード（すなわち，順列の部分集合）に含まれるスケジュールのメイクスパンの下界（必ず最小値以下になる値）になっています．\n",
        "\n",
        "このように，各ノードの評価値として，そこから派生して作られるスケジュールのメイクスパンの下界値が得られる場合，それを用いて，探索木の枝刈りを行うことができます．すなわち，探索の過程で既にある葉ノード（に対応するスケジュール，すなわち暫定解）が見つかっていて，そのメイクスパンの値を評価済みだとします．このとき，その暫定解のメイクスパンの値よりも下界値が大きいノードからは，暫定解よりもメイクスパンの短いスケジュールを作ることはできないことがわかりますので，そのノードはそれ以上分枝して調べる必要はないということになります．すなわち，そのノードから先の枝は刈り取ってしまうことができるわけです．\n",
        "\n",
        "このようにして最適なスケジュールを見つける探索のプロセスを効率化することができます．これを分枝限定法（Branch and Bound Method: BAB）と呼びます．ここでは，この分枝限定法の考え方を取り入れて，上の全数探索のメソッドを拡張してみましょう．"
      ]
    },
    {
      "cell_type": "markdown",
      "metadata": {
        "id": "n6UBfV2ovwXm"
      },
      "source": [
        "### 演習課題 3\n",
        "\n",
        "上で作成したexhaustive_search()メソッドに分枝限定法の考え方を導入して，bab_search()メソッドに拡張してみましょう．このとき，ノード集合に含まれるノードは，その評価値（メイクスパンの下界値）の小さい順にチェックしていくようにしてください（この順でチェックしていくやり方を最小下界探索と呼びます）．\n",
        "\n",
        "実装し終わったら，下記のコードで動作を確認しておきましょう．最後に最適なスケジュールが描画されれば完成です．\n"
      ]
    },
    {
      "cell_type": "code",
      "metadata": {
        "id": "MUe5MBiPfuQc"
      },
      "source": [
        "tree = NodeSet(jobs)\n",
        "tree.bab_search()"
      ],
      "execution_count": 5,
      "outputs": []
    },
    {
      "cell_type": "markdown",
      "metadata": {
        "id": "MApjw2XpxK8Z"
      },
      "source": [
        "## 計算時間の評価\n",
        "\n",
        "もし余裕があれば，ジョブ数Jや機械数Mを変化させて，上で開発した探索プログラムの計算時間を評価してみましょう．ジョブ数Jと機械数Mを指定して，スケジューリング問題のインスタンスを自動生成し，それに探索プログラム（例えば，exhaustive_search()メソッド）を適用して計算時間を評価するには，次のようにすればOKです（例えば，J=6，M=5の場合）．"
      ]
    },
    {
      "cell_type": "code",
      "metadata": {
        "id": "huA6mbR1yjFo"
      },
      "source": [
        "jobs = Jobs()\n",
        "jobs.set_randomly(6, 5)\n",
        "\n",
        "tree = NodeSet(jobs)\n",
        "\n",
        "start = time.perf_counter()\n",
        "best_seq, best_ms = tree.exhaustive_search()\n",
        "end = time.perf_counter()\n",
        "\n",
        "print('Calc. time: {} (ms)'.format(end -start))"
      ],
      "execution_count": null,
      "outputs": []
    },
    {
      "cell_type": "markdown",
      "metadata": {
        "id": "1cefDiDufuur"
      },
      "source": [
        "## 考察課題\n",
        "\n",
        "最後に，今回の講義と課題に関連して，下記の項目について考察してみましょう．下の欄に直接書き込んで提出してください．\n",
        "\n",
        "- 分枝限定法で利用している各ノードの評価値は，そのノード（すなわち，順列の部分集合）に含まれるスケジュールのメイクスパンの下界（必ず最小値以下になる値）になっていました．この下界の精度を高める（すなわち，最小値に近づける）と枝刈りの効率は向上します．下界の精度を高める方法について考えてみてください（ただし，精度を高めると，一般に，下界の計算にかかる時間は長くなってしまう傾向がありますので，必ずしも高精度にすることが望ましいとは限りません）．\n",
        "\n",
        "- 必ずしも下界であることが保証されいない，メイクスパンの推定値を，各ノードの評価値に用いるとどうなるか．\n",
        "\n",
        "- 上で計算時間を評価した場合，その結果についても考察を加えてみてください．"
      ]
    },
    {
      "cell_type": "markdown",
      "metadata": {
        "id": "t3MkG6TXfvpl"
      },
      "source": [
        "### 考察記入欄\n",
        "\n",
        "この文を消して，代わりに，自分の考察を記入してください．\n",
        "\n"
      ]
    },
    {
      "cell_type": "markdown",
      "metadata": {
        "id": "3H_rQVtLfzMq"
      },
      "source": [
        "## まとめ\n",
        "\n",
        "演習課題のコードは，所定の箇所に（passを消してから）直接書き込んでください．提出前に必ず動作を確認しておくこと．動作しないコードは採点対象になりません．また，考察課題も，所定の欄に直接書き込んでもらえればOKです．\n",
        "\n",
        "最後に，このGoogle Colabのノートブックを<b>ipynb形式</b>で保存したファイルをコースパワーから提出すること．提出の〆切は，講義の翌週火曜日の24時とします．"
      ]
    }
  ]
}